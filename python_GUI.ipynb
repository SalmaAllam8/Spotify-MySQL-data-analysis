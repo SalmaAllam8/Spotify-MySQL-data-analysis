{
 "cells": [
  {
   "cell_type": "code",
   "execution_count": 31,
   "metadata": {},
   "outputs": [],
   "source": [
    "import spotipy\n",
    "from spotipy.oauth2 import SpotifyOAuth\n",
    "import tkinter as tk\n",
    "from PIL import ImageTk\n",
    "import requests"
   ]
  },
  {
   "cell_type": "code",
   "execution_count": 11,
   "metadata": {},
   "outputs": [],
   "source": [
    "sp = spotipy.Spotify(auth_manager=SpotifyOAuth(\n",
    "    client_id='079cc4a1ad984de38b286a828f4aa103',\n",
    "    client_secret='e6150d6a3c1a43568a18a96de0b52f67',\n",
    "    redirect_uri='http://127.0.0.1:5000/',\n",
    "    scope ='user-top-read user-read-recently-played'\n",
    "))"
   ]
  },
  {
   "cell_type": "code",
   "execution_count": 44,
   "metadata": {},
   "outputs": [],
   "source": [
    "user_info = sp.current_user()"
   ]
  },
  {
   "cell_type": "code",
   "execution_count": 16,
   "metadata": {},
   "outputs": [],
   "source": [
    "user_name =user_info['display_name']\n",
    "image_url = user_info['images'][1]['url']"
   ]
  },
  {
   "cell_type": "code",
   "execution_count": 17,
   "metadata": {},
   "outputs": [],
   "source": [
    "recents = sp.current_user_recently_played(limit=50)['items']"
   ]
  },
  {
   "cell_type": "code",
   "execution_count": 18,
   "metadata": {},
   "outputs": [],
   "source": [
    "top_tracks_long = sp.current_user_top_tracks(limit=10, time_range='long_term')['items']\n",
    "top_tracks_med= sp.current_user_top_tracks(limit=10, time_range='medium_term')['items']\n",
    "top_tracks_short= sp.current_user_top_tracks(limit=10, time_range='short_term')['items']"
   ]
  },
  {
   "cell_type": "code",
   "execution_count": 19,
   "metadata": {},
   "outputs": [],
   "source": [
    "top_artists_long = sp.current_user_top_artists(limit=10, time_range='long_term')['items']\n",
    "top_artists_med= sp.current_user_top_artists(limit=10, time_range='medium_term')['items']\n",
    "top_artists_short= sp.current_user_top_artists(limit=10, time_range='short_term')['items']"
   ]
  },
  {
   "cell_type": "code",
   "execution_count": 20,
   "metadata": {},
   "outputs": [],
   "source": [
    "\n",
    "def insert_box(listbox,data) :\n",
    "    for i ,item in enumerate(data) :\n",
    "        listbox.insert(i,str(i+1)+' '+item['name'])\n",
    "    "
   ]
  },
  {
   "cell_type": "code",
   "execution_count": 48,
   "metadata": {},
   "outputs": [],
   "source": [
    "img_data = requests.get(image_url).content\n",
    "with open('profile_picture.jpg', 'wb') as handler:\n",
    "    handler.write(img_data)\n"
   ]
  },
  {
   "cell_type": "code",
   "execution_count": 70,
   "metadata": {},
   "outputs": [],
   "source": [
    "from tkinter import *\n",
    "import PIL.Image \n",
    "\n",
    "# create a root window.\n",
    "top = tk.Toplevel()\n",
    "top.title('Spotify data')\n",
    "# create listbox object\n",
    "def artist_button ():\n",
    "        top = Tk()\n",
    "        listbox_tracksl = Listbox(top)\n",
    "        listbox_tracksm = Listbox(top)\n",
    "        listbox_trackss = Listbox(top)\n",
    "\n",
    "        insert_box(listbox_tracksl,top_artists_long)\n",
    "        insert_box(listbox_tracksm,top_artists_med)\n",
    "        insert_box(listbox_trackss,top_artists_short)\n",
    "\n",
    "        label = tk.Label(top, \n",
    "                 text='Top Artists', \n",
    "                 anchor=tk.CENTER,\n",
    "                 bg=\"#4CAF50\",          # Light green background\n",
    "                 fg=\"white\",            # White text\n",
    "                 font=(\"Arial\", 16, \"bold\"),\n",
    "                 padx=20, pady=10,      # Padding to create space\n",
    "                 relief=tk.RAISED,      # Add a raised effect\n",
    "                 borderwidth=2)         # Thicker border\n",
    "        short = tk.Label(top, text='Last Month')\n",
    "        mid = tk.Label(top, text='Last 6 Months')\n",
    "        long = tk.Label(top, text= 'Last year')\n",
    "\n",
    "        label.grid(row=1, column=0, columnspan=3, padx=5, pady=5)\n",
    "        short.grid(row=2, column=2, padx=5, pady=5)\n",
    "        mid.grid(row=2, column=1, padx=5, pady=5)\n",
    "        long.grid(row=2, column=0, padx=5, pady=5)\n",
    "        listbox_tracksl.grid(row=3, column=0, padx=5, pady=5)\n",
    "        listbox_tracksm.grid(row=3, column=1, padx=5, pady=5)\n",
    "        listbox_trackss.grid(row=3, column=2, padx=5, pady=5)\n",
    "artists = tk.Button(top,\n",
    "                    background = '#020302',\n",
    "                    foreground= '#0ae80a',\n",
    "                    activebackground= '#0ae80a', \n",
    "                    activeforeground= '#0ae80a',\n",
    "                    highlightthickness=2,\n",
    "                    highlightbackground='#0ae80a',\n",
    "                    highlightcolor='BLUE',\n",
    "                    width=13,\n",
    "                    height =2,\n",
    "                    border =0,\n",
    "                    cursor= 'hand1',\n",
    "                    text = 'Top Artists',\n",
    "                    font = ('Arial', 16,'bold'),\n",
    "                    command=artist_button)\n",
    "\n",
    "                \n",
    "def track_button():\n",
    "        top = Tk()\n",
    "        listbox_tracksl = Listbox(top)\n",
    "        listbox_tracksm = Listbox(top)\n",
    "        listbox_trackss = Listbox(top)\n",
    "        # Define the size of the window.\n",
    "\n",
    "        #top.geometry(\"300x250\") \n",
    "\n",
    "        # Define a label for the list. \n",
    "        # Create a StringVar to associate with the label\n",
    "\n",
    "        # insert elements by their\n",
    "        # index and names.\n",
    "\n",
    "        insert_box(listbox_tracksl,top_tracks_long)\n",
    "        insert_box(listbox_tracksm,top_tracks_med)\n",
    "        insert_box(listbox_trackss,top_tracks_short)\n",
    "\n",
    "        label = tk.Label(top, \n",
    "                 text='Top Tracks', \n",
    "                 anchor=tk.CENTER,\n",
    "                 bg=\"#4CAF50\",          # Light green background\n",
    "                 fg=\"white\",            # White text\n",
    "                 font=(\"Arial\", 16, \"bold\"),\n",
    "                 padx=20, pady=10,      # Padding to create space\n",
    "                 relief=tk.RAISED,      # Add a raised effect\n",
    "                 borderwidth=2)         # Thicker border\n",
    "        # pack the widgets\n",
    "        short = tk.Label(top, text='Last Month')\n",
    "        mid = tk.Label(top, text='Last 6 Months')\n",
    "        long = tk.Label(top, text= 'Last year')\n",
    "        # Place the listboxes side by side using the grid method\n",
    "        label.grid(row=1, column=0, columnspan=3, padx=5, pady=5)\n",
    "        short.grid(row=2, column=2, padx=5, pady=5)\n",
    "        mid.grid(row=2, column=1, padx=5, pady=5)\n",
    "        long.grid(row=2, column=0, padx=5, pady=5)\n",
    "        listbox_tracksl.grid(row=3, column=0, padx=5, pady=5)\n",
    "        listbox_tracksm.grid(row=3, column=1, padx=5, pady=5)\n",
    "        listbox_trackss.grid(row=3, column=2, padx=5, pady=5)\n",
    "tracks = tk.Button(top,\n",
    "                    background = '#020302',\n",
    "                    foreground= '#0ae80a',\n",
    "                    activebackground= '#0ae80a', \n",
    "                    activeforeground= '#0ae80a',\n",
    "                    highlightthickness=2,\n",
    "                    highlightbackground='#0ae80a',\n",
    "                    highlightcolor='BLUE',\n",
    "                    width=13,\n",
    "                    height =2,\n",
    "                    border =0,\n",
    "                    cursor= 'hand1',\n",
    "                    text = 'Top Tracks',\n",
    "                    font = ('Arial', 16,'bold'),\n",
    "                    command=track_button)\n",
    "\n",
    "userlabel = tk.Label(top, \n",
    "                 text= user_name, \n",
    "                 anchor=tk.CENTER,\n",
    "                 fg=\"black\",            # White text\n",
    "                 font=(\"Arial\", 20, \"bold\"),)\n",
    "fp = open(\"profile_picture.jpg\",\"rb\")\n",
    "img = PIL.Image.open(fp)\n",
    "img = img.resize((280, 300)) \n",
    "img_tk = ImageTk.PhotoImage(img)\n",
    "panel = Label(top, image = img_tk)\n",
    "panel.image = img_tk\n",
    "\n",
    "userlabel.pack(padx=5, pady=5)\n",
    "panel.pack(padx=5, pady=5)\n",
    "tracks.pack(padx=20, pady=20)\n",
    "artists.pack(padx=20, pady=20)\n",
    "\n",
    "# exits themselves.\n",
    "top.mainloop()\n"
   ]
  }
 ],
 "metadata": {
  "kernelspec": {
   "display_name": "Python 3",
   "language": "python",
   "name": "python3"
  },
  "language_info": {
   "codemirror_mode": {
    "name": "ipython",
    "version": 3
   },
   "file_extension": ".py",
   "mimetype": "text/x-python",
   "name": "python",
   "nbconvert_exporter": "python",
   "pygments_lexer": "ipython3",
   "version": "3.12.5"
  }
 },
 "nbformat": 4,
 "nbformat_minor": 2
}
